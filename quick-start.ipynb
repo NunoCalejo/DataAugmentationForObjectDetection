{
 "cells": [
  {
   "cell_type": "markdown",
   "metadata": {},
   "source": [
    "# Data Augmentation For Object Detection\n",
    "\n",
    "This notebook serves as general manual to using this codebase. We cover all the major augmentations, as well as ways to combine them. "
   ]
  },
  {
   "cell_type": "code",
   "execution_count": 3,
   "metadata": {},
   "outputs": [
    {
     "name": "stdout",
     "output_type": "stream",
     "text": [
      "The autoreload extension is already loaded. To reload it, use:\n",
      "  %reload_ext autoreload\n"
     ]
    }
   ],
   "source": [
    "from data_aug.data_aug import *\n",
    "from data_aug.bbox_util import *\n",
    "import numpy as np \n",
    "import cv2 \n",
    "import csv\n",
    "import matplotlib.pyplot as plt \n",
    "import pickle as pkl\n",
    "from labeling import Save_Label\n",
    "%matplotlib inline\n",
    "%load_ext autoreload\n",
    "%autoreload 2"
   ]
  },
  {
   "cell_type": "code",
   "execution_count": 4,
   "metadata": {},
   "outputs": [],
   "source": [
    "item2number = {'button':'1', 'input_text':'2', 'radio':'3', 'select':'4'}\n",
    "for filename in os.listdir('./Train_images'):\n",
    "    \n",
    "    #read image\n",
    "    image = cv2.imread('./Train_images/' + filename)[:,:,::-1]\n",
    "    \n",
    "    #read annotation file\n",
    "    ann = open('./Train_annotations/' + filename[:-4] + '.txt', 'r')\n",
    "    \n",
    "    #convert txt to numpyarray\n",
    "    reader = csv.reader(ann)\n",
    "    allRows = [row for row in reader]\n",
    "    ann.close()\n",
    "    aux = []\n",
    "    allRowssplit = [line[0].split(' ') for line in allRows]\n",
    "    for line in allRowssplit:\n",
    "        line[0] = item2number[line[0]]\n",
    "        line = [float(element) for element in line]\n",
    "        line = line[1:5] + [line[0]]\n",
    "        aux.append(line)\n",
    "    bboxes = np.array(aux)\n",
    "    \n",
    "    #create new images and bboxes\n",
    "    for i in range(1,10):\n",
    "        seq = Sequence([RandomScale(scale=0.2), RandomRotate(angle=10), RandomShear(shear_factor=0.2)])\n",
    "        image_, bboxes_ = seq(image.copy(), bboxes.copy())\n",
    "        #save new aug image\n",
    "        cv2.imwrite('./Train_images_aug/' + filename[:-4] + '_' + str(i) + '.png', image_)\n",
    "        #save new aug labels txt and xml\n",
    "        Save_Label(filename[:-4] + '_' + str(i), bboxes_)"
   ]
  },
  {
   "cell_type": "code",
   "execution_count": null,
   "metadata": {},
   "outputs": [],
   "source": []
  }
 ],
 "metadata": {
  "anaconda-cloud": {},
  "kernelspec": {
   "display_name": "Python 3",
   "language": "python",
   "name": "python3"
  },
  "language_info": {
   "codemirror_mode": {
    "name": "ipython",
    "version": 3
   },
   "file_extension": ".py",
   "mimetype": "text/x-python",
   "name": "python",
   "nbconvert_exporter": "python",
   "pygments_lexer": "ipython3",
   "version": "3.6.8"
  }
 },
 "nbformat": 4,
 "nbformat_minor": 1
}
